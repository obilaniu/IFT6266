{
 "cells": [
  {
   "cell_type": "markdown",
   "metadata": {},
   "source": [
    "(1) Using the backpropagation principle, find the derivatives of the loss function with respect to parameters $W_{i,j}$, $b_{j}$, $V_{jk}$, $c_{k}$."
   ]
  },
  {
   "cell_type": "markdown",
   "metadata": {},
   "source": [
    "$$\n",
    "\\begin{align*}\n",
    "\\mathbf{h}  &= \\sigma(\\mathbf{W}\\mathbf{x} + \\mathbf{b}) \\\\\n",
    "\\mathbf{y}  &= \\mathrm{softmax}\\left( \\mathbf{V}\\mathbf{h} + \\mathbf{c} \\right) \\\\\n",
    "\\mathcal{L} &= \\sum\\limits_{k} -t_k \\log(y_k) \\\\\n",
    "\\frac{\\mathrm{d}\\mathcal{L}}{\\mathrm{d}y_k} &= \\ldots \\\\\n",
    "\\end{align*}\n",
    "$$"
   ]
  },
  {
   "cell_type": "markdown",
   "metadata": {},
   "source": [
    "(2) Using what you derived in step 1, find an expression for the derivative of the loss function with respect to parameter vectors and matrices $\\mathbf{W}$, $\\mathbf{b}$, $\\mathbf{V}$, $\\mathbf{c}$. This is a good thing to do, because NumPy has abstractions to represent dot products between vectors, vector-matrix products, elementwise operations, etc. that rely on heavily optimized linear algebra libraries.  Coding up all these operations using `for`-loops would be both inefficient and tedious."
   ]
  },
  {
   "cell_type": "markdown",
   "metadata": {},
   "source": [
    "$$\n",
    "\\begin{align*}\n",
    "\\frac{\\mathrm{d}\\mathcal{L}}{\\mathrm{d}\\mathbf{y}} &= \\ldots \\\\\n",
    "\\end{align*}\n",
    "$$"
   ]
  },
  {
   "cell_type": "markdown",
   "metadata": {},
   "source": [
    "(3) Implement the code necessary to compute gradients using the expressions derived in step 2 for a pair of feature and target vectors $\\mathbf{x}$ and $\\mathbf{t}$."
   ]
  },
  {
   "cell_type": "code",
   "execution_count": null,
   "metadata": {
    "collapsed": true
   },
   "outputs": [],
   "source": [
    "# Code here. Shift+Enter to move to the next cell, thus executing the current one if it contains code."
   ]
  },
  {
   "cell_type": "markdown",
   "metadata": {},
   "source": [
    "(4) Using the finite differences method, implement a numerical version of the code that computes the gradients, and compare the analytical gradients and the numerical gradients using a toy example (e.g. a random pair of feature and target vectors for an MLP with 10 input dimensions, 5 hidden units and 2 categories). A mismatch between the two indicates an error in the implementation of the analytical gradients. The `numpy.testing.assert_allclose` method will be handy for that."
   ]
  },
  {
   "cell_type": "code",
   "execution_count": null,
   "metadata": {
    "collapsed": true
   },
   "outputs": [],
   "source": [
    "# Code here."
   ]
  },
  {
   "cell_type": "markdown",
   "metadata": {},
   "source": [
    "(5) Generalize your code to work on minibatches of data. Make sure that numerical and analytical gradients still check out on a toy example."
   ]
  },
  {
   "cell_type": "code",
   "execution_count": null,
   "metadata": {
    "collapsed": true
   },
   "outputs": [],
   "source": [
    "# Code here."
   ]
  },
  {
   "cell_type": "markdown",
   "metadata": {},
   "source": [
    "(6) Implement a simple minibatch SGD loop and train your MLP on MNIST. You should be able to achieve under 5% error rate on the test set."
   ]
  },
  {
   "cell_type": "code",
   "execution_count": null,
   "metadata": {
    "collapsed": true
   },
   "outputs": [],
   "source": [
    "# Code here.\n",
    "\n",
    "#Loading code from assignment description:\n",
    "import cPickle\n",
    "import gzip\n",
    " \n",
    "with gzip.open('mnist.pkl.gz', 'rb') as f:\n",
    "    train_set, valid_set, test_set = cPickle.load(f)\n",
    "    # Whatever else needs to be done"
   ]
  }
 ],
 "metadata": {
  "kernelspec": {
   "display_name": "Python 2",
   "language": "python",
   "name": "python2"
  },
  "language_info": {
   "codemirror_mode": {
    "name": "ipython",
    "version": 2
   },
   "file_extension": ".py",
   "mimetype": "text/x-python",
   "name": "python",
   "nbconvert_exporter": "python",
   "pygments_lexer": "ipython2",
   "version": "2.7.9"
  }
 },
 "nbformat": 4,
 "nbformat_minor": 0
}
